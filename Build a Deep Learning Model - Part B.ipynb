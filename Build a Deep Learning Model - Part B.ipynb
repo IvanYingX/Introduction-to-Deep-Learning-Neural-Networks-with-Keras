{
    "cells": [
        {
            "cell_type": "markdown",
            "metadata": {},
            "source": "# Part B"
        },
        {
            "cell_type": "markdown",
            "metadata": {},
            "source": "### This is the Second Part of the Capstone Project of the 'Introduction to Deep Learning & Neural Networks with Keras"
        },
        {
            "cell_type": "code",
            "execution_count": 1,
            "metadata": {},
            "outputs": [],
            "source": "import pandas as pd\nimport numpy as np\nimport tensorflow as tf\nfrom tensorflow import keras\nfrom sklearn.metrics import mean_squared_error\nfrom sklearn.model_selection import train_test_split\nconcrete_data = pd.read_csv('https://s3-api.us-geo.objectstorage.softlayer.net/cf-courses-data/CognitiveClass/DL0101EN/labs/data/concrete_data.csv')"
        },
        {
            "cell_type": "markdown",
            "metadata": {},
            "source": "First, we scale the data by substracting the mean and dividing by the standard deviation"
        },
        {
            "cell_type": "code",
            "execution_count": 2,
            "metadata": {
                "scrolled": true
            },
            "outputs": [],
            "source": "X = concrete_data.drop(['Strength'], axis = 1) # Inputs\ny = concrete_data['Strength'] # Targets\nX_norm = (X - X.mean()) / X.std()"
        },
        {
            "cell_type": "code",
            "execution_count": 3,
            "metadata": {},
            "outputs": [
                {
                    "name": "stderr",
                    "output_type": "stream",
                    "text": "Using TensorFlow backend.\n"
                }
            ],
            "source": "from keras.models import Sequential\nfrom keras.layers import Dense\nkeras.backend.clear_session() # We delete any possible previous session.\n\ndef regression_model():\n    # create model\n    model = Sequential()\n    model.add(Dense(10, activation='relu', input_shape=X_train.shape[1:]))\n    model.add(Dense(1))\n    \n    # compile model\n    model.compile(optimizer='adam', loss='mean_squared_error')\n    return model"
        },
        {
            "cell_type": "code",
            "execution_count": 4,
            "metadata": {},
            "outputs": [
                {
                    "name": "stdout",
                    "output_type": "stream",
                    "text": "Loop 1 out of 50\nWARNING:tensorflow:From /opt/conda/envs/Python36/lib/python3.6/site-packages/tensorflow/python/framework/op_def_library.py:263: colocate_with (from tensorflow.python.framework.ops) is deprecated and will be removed in a future version.\nInstructions for updating:\nColocations handled automatically by placer.\nWARNING:tensorflow:From /opt/conda/envs/Python36/lib/python3.6/site-packages/tensorflow/python/ops/math_ops.py:3066: to_int32 (from tensorflow.python.ops.math_ops) is deprecated and will be removed in a future version.\nInstructions for updating:\nUse tf.cast instead.\nLoop 2 out of 50\nLoop 3 out of 50\nLoop 4 out of 50\nLoop 5 out of 50\nLoop 6 out of 50\nLoop 7 out of 50\nLoop 8 out of 50\nLoop 9 out of 50\nLoop 10 out of 50\nLoop 11 out of 50\nLoop 12 out of 50\nLoop 13 out of 50\nLoop 14 out of 50\nLoop 15 out of 50\nLoop 16 out of 50\nLoop 17 out of 50\nLoop 18 out of 50\nLoop 19 out of 50\nLoop 20 out of 50\nLoop 21 out of 50\nLoop 22 out of 50\nLoop 23 out of 50\nLoop 24 out of 50\nLoop 25 out of 50\nLoop 26 out of 50\nLoop 27 out of 50\nLoop 28 out of 50\nLoop 29 out of 50\nLoop 30 out of 50\nLoop 31 out of 50\nLoop 32 out of 50\nLoop 33 out of 50\nLoop 34 out of 50\nLoop 35 out of 50\nLoop 36 out of 50\nLoop 37 out of 50\nLoop 38 out of 50\nLoop 39 out of 50\nLoop 40 out of 50\nLoop 41 out of 50\nLoop 42 out of 50\nLoop 43 out of 50\nLoop 44 out of 50\nLoop 45 out of 50\nLoop 46 out of 50\nLoop 47 out of 50\nLoop 48 out of 50\nLoop 49 out of 50\nLoop 50 out of 50\n"
                }
            ],
            "source": "mse_list = []\nfor i in range(50):\n    print('Loop {} out of 50'.format(i+1))\n    X_train, X_test, y_train, y_test = train_test_split(X_norm, y, test_size = 0.3)\n    n_cols = X.shape[1]\n    \n    keras.backend.clear_session() # We delete any possible previous session.\n    model = regression_model()\n    model.fit(X_train, y_train, epochs=50, verbose=0)\n    \n    y_pred = model.predict(X_test)\n    mse_list.append(mean_squared_error(y_test, y_pred)) \n    \n    del model # In order not to store possible weight values, I am deleting the model, so next time it starts over"
        },
        {
            "cell_type": "code",
            "execution_count": 5,
            "metadata": {},
            "outputs": [],
            "source": "mse_mean = np.mean(mse_list)\nmse_std = np.std(mse_list)"
        },
        {
            "cell_type": "code",
            "execution_count": 6,
            "metadata": {},
            "outputs": [
                {
                    "name": "stdout",
                    "output_type": "stream",
                    "text": "The mean value of the MSE is 60.80, and the standard deviation is 38.03\n"
                }
            ],
            "source": "print(\"The mean value of the MSE is {:.2f}, and the standard deviation is {:.2f}\".format(mse_mean, mse_std))"
        },
        {
            "cell_type": "code",
            "execution_count": 8,
            "metadata": {},
            "outputs": [
                {
                    "data": {
                        "text/plain": "(array([36.,  7.,  3.,  1.,  1.,  1.,  0.,  0.,  0.,  1.]),\n array([ 35.0523192 ,  57.73252943,  80.41273967, 103.0929499 ,\n        125.77316014, 148.45337037, 171.13358061, 193.81379084,\n        216.49400108, 239.17421131, 261.85442155]),\n <a list of 10 Patch objects>)"
                    },
                    "execution_count": 8,
                    "metadata": {},
                    "output_type": "execute_result"
                }
            ],
            "source": "import matplotlib.pyplot as plt\nplt.hist(mse_list, bins = 10)"
        },
        {
            "cell_type": "code",
            "execution_count": null,
            "metadata": {},
            "outputs": [],
            "source": ""
        }
    ],
    "metadata": {
        "kernelspec": {
            "display_name": "Python 3.6",
            "language": "python",
            "name": "python3"
        },
        "language_info": {
            "codemirror_mode": {
                "name": "ipython",
                "version": 3
            },
            "file_extension": ".py",
            "mimetype": "text/x-python",
            "name": "python",
            "nbconvert_exporter": "python",
            "pygments_lexer": "ipython3",
            "version": "3.6.9"
        }
    },
    "nbformat": 4,
    "nbformat_minor": 1
}